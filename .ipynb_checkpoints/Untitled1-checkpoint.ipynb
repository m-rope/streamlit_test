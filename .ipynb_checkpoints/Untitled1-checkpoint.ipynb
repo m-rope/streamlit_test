{
 "cells": [
  {
   "cell_type": "code",
   "execution_count": 5,
   "id": "21e1048a",
   "metadata": {},
   "outputs": [],
   "source": [
    "import pandas as pd\n",
    "import matplotlib.pyplot as plt\n",
    "import seaborn as sns\n",
    "import numpy as np\n",
    "import streamlit as st"
   ]
  },
  {
   "cell_type": "code",
   "execution_count": 62,
   "id": "50b4558b",
   "metadata": {},
   "outputs": [],
   "source": [
    "df_path = '/Users/mattiaropelato/python/streamlit_test/dataset/f1_23_09_22/'\n",
    "\n",
    "constr_results = pd.read_csv(df_path + 'constructor_results.csv')\n",
    "constr_standings = pd.read_csv(df_path + 'constructor_standings.csv') #\n",
    "constructors = pd.read_csv(df_path + 'constructors.csv') #\n",
    "driver_standings = pd.read_csv(df_path + 'driver_standings.csv') #\n",
    "drivers = pd.read_csv(df_path + 'drivers.csv') #\n",
    "lap_times = pd.read_csv(df_path + 'lap_times.csv')\n",
    "pit_stops = pd.read_csv(df_path + 'pit_stops.csv')\n",
    "qualifying = pd.read_csv(df_path + 'qualifying.csv') #\n",
    "races = pd.read_csv(df_path + 'races.csv') #\n",
    "results = pd.read_csv(df_path + 'results.csv') #\n",
    "seasons = pd.read_csv(df_path + 'seasons.csv')\n",
    "sprint_results = pd.read_csv(df_path + 'sprint_results.csv')\n",
    "status = pd.read_csv(df_path + 'status.csv')"
   ]
  },
  {
   "cell_type": "code",
   "execution_count": null,
   "id": "25a19d17",
   "metadata": {},
   "outputs": [],
   "source": [
    "top3circ = ['Monte-Carlo', 'Monza', 'Barcelona']\n",
    "top5driv = ['max_verstappen', 'leclerc', 'hamilton', 'norris', 'russell']\n",
    "top3driv = ['max_verstappen', 'leclerc', 'hamilton']"
   ]
  },
  {
   "cell_type": "code",
   "execution_count": 70,
   "id": "02751834",
   "metadata": {},
   "outputs": [
    {
     "data": {
      "text/html": [
       "<div>\n",
       "<style scoped>\n",
       "    .dataframe tbody tr th:only-of-type {\n",
       "        vertical-align: middle;\n",
       "    }\n",
       "\n",
       "    .dataframe tbody tr th {\n",
       "        vertical-align: top;\n",
       "    }\n",
       "\n",
       "    .dataframe thead th {\n",
       "        text-align: right;\n",
       "    }\n",
       "</style>\n",
       "<table border=\"1\" class=\"dataframe\">\n",
       "  <thead>\n",
       "    <tr style=\"text-align: right;\">\n",
       "      <th></th>\n",
       "      <th>driverId</th>\n",
       "      <th>driverRef</th>\n",
       "      <th>raceId</th>\n",
       "      <th>position</th>\n",
       "      <th>wins</th>\n",
       "    </tr>\n",
       "  </thead>\n",
       "  <tbody>\n",
       "    <tr>\n",
       "      <th>0</th>\n",
       "      <td>1</td>\n",
       "      <td>hamilton</td>\n",
       "      <td>18</td>\n",
       "      <td>1</td>\n",
       "      <td>1</td>\n",
       "    </tr>\n",
       "    <tr>\n",
       "      <th>1</th>\n",
       "      <td>1</td>\n",
       "      <td>hamilton</td>\n",
       "      <td>19</td>\n",
       "      <td>1</td>\n",
       "      <td>1</td>\n",
       "    </tr>\n",
       "    <tr>\n",
       "      <th>2</th>\n",
       "      <td>1</td>\n",
       "      <td>hamilton</td>\n",
       "      <td>20</td>\n",
       "      <td>3</td>\n",
       "      <td>1</td>\n",
       "    </tr>\n",
       "    <tr>\n",
       "      <th>3</th>\n",
       "      <td>1</td>\n",
       "      <td>hamilton</td>\n",
       "      <td>21</td>\n",
       "      <td>2</td>\n",
       "      <td>1</td>\n",
       "    </tr>\n",
       "    <tr>\n",
       "      <th>4</th>\n",
       "      <td>1</td>\n",
       "      <td>hamilton</td>\n",
       "      <td>22</td>\n",
       "      <td>3</td>\n",
       "      <td>1</td>\n",
       "    </tr>\n",
       "    <tr>\n",
       "      <th>...</th>\n",
       "      <td>...</td>\n",
       "      <td>...</td>\n",
       "      <td>...</td>\n",
       "      <td>...</td>\n",
       "      <td>...</td>\n",
       "    </tr>\n",
       "    <tr>\n",
       "      <th>33681</th>\n",
       "      <td>855</td>\n",
       "      <td>zhou</td>\n",
       "      <td>1082</td>\n",
       "      <td>16</td>\n",
       "      <td>0</td>\n",
       "    </tr>\n",
       "    <tr>\n",
       "      <th>33682</th>\n",
       "      <td>855</td>\n",
       "      <td>zhou</td>\n",
       "      <td>1083</td>\n",
       "      <td>16</td>\n",
       "      <td>0</td>\n",
       "    </tr>\n",
       "    <tr>\n",
       "      <th>33683</th>\n",
       "      <td>855</td>\n",
       "      <td>zhou</td>\n",
       "      <td>1084</td>\n",
       "      <td>17</td>\n",
       "      <td>0</td>\n",
       "    </tr>\n",
       "    <tr>\n",
       "      <th>33684</th>\n",
       "      <td>855</td>\n",
       "      <td>zhou</td>\n",
       "      <td>1085</td>\n",
       "      <td>17</td>\n",
       "      <td>0</td>\n",
       "    </tr>\n",
       "    <tr>\n",
       "      <th>33685</th>\n",
       "      <td>855</td>\n",
       "      <td>zhou</td>\n",
       "      <td>1086</td>\n",
       "      <td>17</td>\n",
       "      <td>0</td>\n",
       "    </tr>\n",
       "  </tbody>\n",
       "</table>\n",
       "<p>33686 rows × 5 columns</p>\n",
       "</div>"
      ],
      "text/plain": [
       "       driverId driverRef  raceId  position  wins\n",
       "0             1  hamilton      18         1     1\n",
       "1             1  hamilton      19         1     1\n",
       "2             1  hamilton      20         3     1\n",
       "3             1  hamilton      21         2     1\n",
       "4             1  hamilton      22         3     1\n",
       "...         ...       ...     ...       ...   ...\n",
       "33681       855      zhou    1082        16     0\n",
       "33682       855      zhou    1083        16     0\n",
       "33683       855      zhou    1084        17     0\n",
       "33684       855      zhou    1085        17     0\n",
       "33685       855      zhou    1086        17     0\n",
       "\n",
       "[33686 rows x 5 columns]"
      ]
     },
     "execution_count": 70,
     "metadata": {},
     "output_type": "execute_result"
    }
   ],
   "source": [
    "driver_df = drivers.loc[:, ['driverId', 'driverRef']].merge(driver_standings.loc[:, ['raceId', 'driverId', 'position', 'wins']])\n",
    "driver_df#.groupby('driverRef').raceId.nunique().sort_values(ascending=False)"
   ]
  },
  {
   "cell_type": "code",
   "execution_count": null,
   "id": "c25f79d7",
   "metadata": {},
   "outputs": [],
   "source": []
  },
  {
   "cell_type": "code",
   "execution_count": 64,
   "id": "bdb4edba",
   "metadata": {},
   "outputs": [
    {
     "data": {
      "text/plain": [
       "(Index(['driverId', 'driverRef', 'number', 'code', 'forename', 'surname', 'dob',\n",
       "        'nationality', 'url'],\n",
       "       dtype='object'),\n",
       " Index(['driverStandingsId', 'raceId', 'driverId', 'points', 'position',\n",
       "        'positionText', 'wins'],\n",
       "       dtype='object'))"
      ]
     },
     "execution_count": 64,
     "metadata": {},
     "output_type": "execute_result"
    }
   ],
   "source": [
    "drivers.columns, driver_standings.columns"
   ]
  },
  {
   "cell_type": "code",
   "execution_count": 65,
   "id": "4a02feb0",
   "metadata": {},
   "outputs": [
    {
     "name": "stdout",
     "output_type": "stream",
     "text": [
      "<class 'pandas.core.frame.DataFrame'>\n",
      "RangeIndex: 33686 entries, 0 to 33685\n",
      "Data columns (total 7 columns):\n",
      " #   Column             Non-Null Count  Dtype  \n",
      "---  ------             --------------  -----  \n",
      " 0   driverStandingsId  33686 non-null  int64  \n",
      " 1   raceId             33686 non-null  int64  \n",
      " 2   driverId           33686 non-null  int64  \n",
      " 3   points             33686 non-null  float64\n",
      " 4   position           33686 non-null  int64  \n",
      " 5   positionText       33686 non-null  object \n",
      " 6   wins               33686 non-null  int64  \n",
      "dtypes: float64(1), int64(5), object(1)\n",
      "memory usage: 1.8+ MB\n"
     ]
    }
   ],
   "source": [
    "driver_standings.info()"
   ]
  },
  {
   "cell_type": "raw",
   "id": "c1f07fd3",
   "metadata": {},
   "source": []
  }
 ],
 "metadata": {
  "kernelspec": {
   "display_name": "Python 3 (ipykernel)",
   "language": "python",
   "name": "python3"
  },
  "language_info": {
   "codemirror_mode": {
    "name": "ipython",
    "version": 3
   },
   "file_extension": ".py",
   "mimetype": "text/x-python",
   "name": "python",
   "nbconvert_exporter": "python",
   "pygments_lexer": "ipython3",
   "version": "3.9.13"
  }
 },
 "nbformat": 4,
 "nbformat_minor": 5
}
